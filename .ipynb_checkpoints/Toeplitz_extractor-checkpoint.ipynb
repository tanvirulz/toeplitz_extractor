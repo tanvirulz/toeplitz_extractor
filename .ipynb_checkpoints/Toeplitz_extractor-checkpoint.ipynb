{
 "cells": [
  {
   "cell_type": "markdown",
   "metadata": {},
   "source": [
    "# Toeplitz Extractor \n",
    "## ToDo\n",
    "1. Load input from clean csv files. Write seperate function for cleaning and generating that csv file.\n",
    "2. Give it a batch processing capability for multiple input files. "
   ]
  },
  {
   "cell_type": "code",
   "execution_count": 12,
   "metadata": {
    "collapsed": true
   },
   "outputs": [],
   "source": [
    "import numpy as np\n",
    "import math\n",
    "import random"
   ]
  },
  {
   "cell_type": "code",
   "execution_count": 174,
   "metadata": {
    "collapsed": false
   },
   "outputs": [],
   "source": [
    "#loads specific column of the given data. \n",
    "#should have named it \"clean_and_load\". \n",
    "#input is a very messy minicom log of the experiment\n",
    "\n",
    "def load_data(file,col): #coincidence data at col=3\n",
    "    ref_laser_power = 327\n",
    "    data = []\n",
    "    with open(file,\"r\", encoding=\"utf8\", errors='ignore') as fp: #\"minicom1.dat\"\n",
    "        for line in fp:\n",
    "            data.append(line)\n",
    "    #There are some thermistor and dark count data. We have to skip those first\n",
    "    dc = 0\n",
    "    #print(\"data len\", len(data))\n",
    "    for i, line in enumerate(data ):\n",
    "        if \"#Dark Count Mode Complete\" in line:\n",
    "            dc = i\n",
    "            break\n",
    "    #print (data[dc],22)\n",
    "    dc+=1        \n",
    "    for i, line in enumerate(data[dc:]):\n",
    "        if \"#\" not in line:\n",
    "            dc += i\n",
    "            break\n",
    "    #print ( len(data[dc].split()),33)\n",
    "    for i, line in enumerate(data[dc:]):\n",
    "        ldata = line.strip().split()\n",
    "        #if len(ldata) <12: \n",
    "        #    print (\"small\", ldata)\n",
    "        #    continue\n",
    "        lp = int(ldata[11])\n",
    "        if lp == ref_laser_power:\n",
    "            dc += i\n",
    "            break\n",
    "    CC = []\n",
    "    #print (data[dc],44)\n",
    "    for i,line in enumerate(data[dc:-1]):\n",
    "        if line[0] == '#':\n",
    "            continue\n",
    "        ldata = line.strip().split()  \n",
    "        if len(ldata) < 38:\n",
    "            continue\n",
    "        lp = int(ldata[11]) \n",
    "        if lp == ref_laser_power:\n",
    "            c = int(ldata[col])\n",
    "            #print (i,ldata[3])\n",
    "            CC.append(c)\n",
    "        if int(ldata[0]) == 10000:\n",
    "            break\n",
    "\n",
    "    return CC\n"
   ]
  },
  {
   "cell_type": "code",
   "execution_count": 175,
   "metadata": {
    "collapsed": true
   },
   "outputs": [],
   "source": [
    "#shold implement a lookup table based one. \n",
    "def calc_min_entropy(mean_Brightness): #I need to check this formula again\n",
    "    min_ent = 0;\n",
    "    cm = [0] *4\n",
    "    cm[0] = mean_Brightness*1.44269504;\n",
    "    cm[1] = math.floor(mean_Brightness)*math.log(mean_Brightness)/0.69314718;\n",
    "    cm[2] = math.floor(mean_Brightness)*(math.log(math.floor(mean_Brightness))-1)*1.44269504;\n",
    "    cm[3] = math.log(math.floor(mean_Brightness)*(1+4*math.floor(mean_Brightness)*(1+2*math.floor(mean_Brightness))))*0.24044917 + 0.82574806;\n",
    "\n",
    "    min_entropy = cm[0] - cm[1] + cm[2] + cm[3];\n",
    "    \n",
    "    min_entropy = math.floor(min_entropy);\n",
    "    return min_entropy"
   ]
  },
  {
   "cell_type": "code",
   "execution_count": 176,
   "metadata": {
    "collapsed": false
   },
   "outputs": [],
   "source": [
    "#Generates a row/column toeplitz matrix. \n",
    "#current version has some hack the col can only be a multiple of 8\n",
    "#otherwise the column size of the output matrix will be 8*floor(col/8)\n",
    "#works for now. will change later\n",
    "def gen_Toeplitz(row, col) :\n",
    "    random.seed()\n",
    "    \n",
    "    row = int(row)\n",
    "    col = int(col/8)\n",
    "\n",
    "    M = np.zeros((row,col),dtype='uint8' ) #actual data is of 10 bits\n",
    "    for i in range(col):\n",
    "        M[0][i] = random.getrandbits(8)\n",
    "        \n",
    "    M = np.unpackbits(M,axis=1)\n",
    "    for i in range(row-1):\n",
    "        rb =  random.getrandbits(1)\n",
    "        if rb == 0:\n",
    "            M[i+1] = np.concatenate( (np.array([0],dtype='uint8') , M[i][0:-1]),axis=0 )\n",
    "        else:\n",
    "            M[i+1] = np.concatenate( (np.array([1],dtype='uint8') , M[i][0:-1]),axis=0 )\n",
    "    #print(\"Generating Toeplitz matrix of dimension ({},{})\".format(M.shape[0],M.Shape[1] )\n",
    "    print (\"generating toeplitz matrix of dimension {}\".format(M.shape))\n",
    "    return M"
   ]
  },
  {
   "cell_type": "code",
   "execution_count": 182,
   "metadata": {
    "collapsed": true
   },
   "outputs": [],
   "source": [
    "#input file, output file, column of the input file to be considered, number of input entry to be processed as a chunk\n",
    "#M the toeplitz matrix. If M is not given, generate. \n",
    "def extract_randomness(infile,outfile,col, process_chunk, M=None):\n",
    "    #clean and load\n",
    "    CC = load_data(infile,col)\n",
    "    \n",
    "    #compute extraction ratio\n",
    "    mean_brightness = sum(CC)/len(CC)\n",
    "    m_entropy = calc_min_entropy(mean_brightness)\n",
    "    \n",
    "    extraction_ratio = m_entropy/16.0\n",
    "    \n",
    "    npCC = np.array(CC, dtype=\"uint16\")\n",
    "    #original data need to be converted to uint8 before can be unpacked into bits. \n",
    "    #byteswap() is used to correc for the 'endianness'\n",
    "    CCN = np.unpackbits(npCC.byteswap().view(\"uint8\"), axis=0)\n",
    "    \n",
    "    #if M is not given, generate\n",
    "    if M is None:\n",
    "        M = gen_Toeplitz( process_chunk*2*8* extraction_ratio ,process_chunk*2*8)\n",
    "    \n",
    "    # extraction magic\n",
    "    qrand = np.array([],dtype=\"uint8\")\n",
    "    #qrand = []\n",
    "    for i in range(0,len(CCN),160)[:-1]:\n",
    "        batch = np.matmul(M, CCN[i:i+160])\n",
    "        qrand = np.concatenate((qrand,batch),axis=0 )\n",
    "        #qrand.append(batch)\n",
    "    final_bits = qrand %2\n",
    "    quantum_random_bytes = np.packbits(final_bits)\n",
    "    quantum_random_bytes.tofile(outfile) #outfile\n",
    "    print (\"extracted random bits are written in binary file:\",outfile)"
   ]
  },
  {
   "cell_type": "code",
   "execution_count": 183,
   "metadata": {
    "collapsed": false
   },
   "outputs": [
    {
     "name": "stdout",
     "output_type": "stream",
     "text": [
      "generating toeplitz matrix of dimension (40, 160)\n",
      "output random bytes are written in file: random1.bits\n"
     ]
    }
   ],
   "source": [
    "extract_randomness(\"minicom1.dat\",\"random1.bits\",3,10)"
   ]
  },
  {
   "cell_type": "code",
   "execution_count": 179,
   "metadata": {
    "collapsed": true
   },
   "outputs": [],
   "source": [
    "#test code \n"
   ]
  },
  {
   "cell_type": "code",
   "execution_count": 74,
   "metadata": {
    "collapsed": false
   },
   "outputs": [
    {
     "name": "stdout",
     "output_type": "stream",
     "text": [
      "generating toeplitz matrix of dimension (40, 160)\n"
     ]
    }
   ],
   "source": [
    "M = gen_Toeplitz(40,160)\n",
    "M.tofile(\"toeplitz.matrix\")"
   ]
  },
  {
   "cell_type": "code",
   "execution_count": 80,
   "metadata": {
    "collapsed": true
   },
   "outputs": [],
   "source": [
    "N = np.fromfile(\"toeplitz.matrix\",dtype='uint8').reshape(40,160)"
   ]
  },
  {
   "cell_type": "code",
   "execution_count": 81,
   "metadata": {
    "collapsed": false
   },
   "outputs": [
    {
     "data": {
      "text/plain": [
       "True"
      ]
     },
     "execution_count": 81,
     "metadata": {},
     "output_type": "execute_result"
    }
   ],
   "source": [
    "np.array_equal(M,N)"
   ]
  }
 ],
 "metadata": {
  "kernelspec": {
   "display_name": "Python 3",
   "language": "python",
   "name": "python3"
  },
  "language_info": {
   "codemirror_mode": {
    "name": "ipython",
    "version": 3
   },
   "file_extension": ".py",
   "mimetype": "text/x-python",
   "name": "python",
   "nbconvert_exporter": "python",
   "pygments_lexer": "ipython3",
   "version": "3.5.2"
  }
 },
 "nbformat": 4,
 "nbformat_minor": 1
}
